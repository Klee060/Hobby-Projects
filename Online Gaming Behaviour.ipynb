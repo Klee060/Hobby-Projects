{
 "cells": [
  {
   "cell_type": "code",
   "execution_count": 21,
   "id": "90679118",
   "metadata": {},
   "outputs": [],
   "source": [
    "# Basic Libraries\n",
    "import numpy as np\n",
    "import pandas as pd"
   ]
  },
  {
   "cell_type": "code",
   "execution_count": 2,
   "id": "6e468037",
   "metadata": {},
   "outputs": [
    {
     "data": {
      "text/plain": [
       "PlayerID                     40034\n",
       "Age                          40034\n",
       "Gender                       40034\n",
       "Location                     40034\n",
       "GameGenre                    40034\n",
       "PlayTimeHours                40034\n",
       "InGamePurchases              40034\n",
       "GameDifficulty               40034\n",
       "SessionsPerWeek              40034\n",
       "AvgSessionDurationMinutes    40034\n",
       "PlayerLevel                  40034\n",
       "AchievementsUnlocked         40034\n",
       "EngagementLevel              40034\n",
       "dtype: int64"
      ]
     },
     "metadata": {},
     "output_type": "display_data"
    },
    {
     "data": {
      "text/html": [
       "<div>\n",
       "<style scoped>\n",
       "    .dataframe tbody tr th:only-of-type {\n",
       "        vertical-align: middle;\n",
       "    }\n",
       "\n",
       "    .dataframe tbody tr th {\n",
       "        vertical-align: top;\n",
       "    }\n",
       "\n",
       "    .dataframe thead th {\n",
       "        text-align: right;\n",
       "    }\n",
       "</style>\n",
       "<table border=\"1\" class=\"dataframe\">\n",
       "  <thead>\n",
       "    <tr style=\"text-align: right;\">\n",
       "      <th></th>\n",
       "      <th>PlayerID</th>\n",
       "      <th>Age</th>\n",
       "      <th>Gender</th>\n",
       "      <th>Location</th>\n",
       "      <th>GameGenre</th>\n",
       "      <th>PlayTimeHours</th>\n",
       "      <th>InGamePurchases</th>\n",
       "      <th>GameDifficulty</th>\n",
       "      <th>SessionsPerWeek</th>\n",
       "      <th>AvgSessionDurationMinutes</th>\n",
       "      <th>PlayerLevel</th>\n",
       "      <th>AchievementsUnlocked</th>\n",
       "      <th>EngagementLevel</th>\n",
       "    </tr>\n",
       "  </thead>\n",
       "  <tbody>\n",
       "    <tr>\n",
       "      <th>0</th>\n",
       "      <td>9000</td>\n",
       "      <td>43</td>\n",
       "      <td>Male</td>\n",
       "      <td>Other</td>\n",
       "      <td>Strategy</td>\n",
       "      <td>16.271119</td>\n",
       "      <td>0</td>\n",
       "      <td>Medium</td>\n",
       "      <td>6</td>\n",
       "      <td>108</td>\n",
       "      <td>79</td>\n",
       "      <td>25</td>\n",
       "      <td>Medium</td>\n",
       "    </tr>\n",
       "    <tr>\n",
       "      <th>1</th>\n",
       "      <td>9001</td>\n",
       "      <td>29</td>\n",
       "      <td>Female</td>\n",
       "      <td>USA</td>\n",
       "      <td>Strategy</td>\n",
       "      <td>5.525961</td>\n",
       "      <td>0</td>\n",
       "      <td>Medium</td>\n",
       "      <td>5</td>\n",
       "      <td>144</td>\n",
       "      <td>11</td>\n",
       "      <td>10</td>\n",
       "      <td>Medium</td>\n",
       "    </tr>\n",
       "    <tr>\n",
       "      <th>2</th>\n",
       "      <td>9002</td>\n",
       "      <td>22</td>\n",
       "      <td>Female</td>\n",
       "      <td>USA</td>\n",
       "      <td>Sports</td>\n",
       "      <td>8.223755</td>\n",
       "      <td>0</td>\n",
       "      <td>Easy</td>\n",
       "      <td>16</td>\n",
       "      <td>142</td>\n",
       "      <td>35</td>\n",
       "      <td>41</td>\n",
       "      <td>High</td>\n",
       "    </tr>\n",
       "    <tr>\n",
       "      <th>3</th>\n",
       "      <td>9003</td>\n",
       "      <td>35</td>\n",
       "      <td>Male</td>\n",
       "      <td>USA</td>\n",
       "      <td>Action</td>\n",
       "      <td>5.265351</td>\n",
       "      <td>1</td>\n",
       "      <td>Easy</td>\n",
       "      <td>9</td>\n",
       "      <td>85</td>\n",
       "      <td>57</td>\n",
       "      <td>47</td>\n",
       "      <td>Medium</td>\n",
       "    </tr>\n",
       "    <tr>\n",
       "      <th>4</th>\n",
       "      <td>9004</td>\n",
       "      <td>33</td>\n",
       "      <td>Male</td>\n",
       "      <td>Europe</td>\n",
       "      <td>Action</td>\n",
       "      <td>15.531945</td>\n",
       "      <td>0</td>\n",
       "      <td>Medium</td>\n",
       "      <td>2</td>\n",
       "      <td>131</td>\n",
       "      <td>95</td>\n",
       "      <td>37</td>\n",
       "      <td>Medium</td>\n",
       "    </tr>\n",
       "  </tbody>\n",
       "</table>\n",
       "</div>"
      ],
      "text/plain": [
       "   PlayerID  Age  Gender Location GameGenre  PlayTimeHours  InGamePurchases  \\\n",
       "0      9000   43    Male    Other  Strategy      16.271119                0   \n",
       "1      9001   29  Female      USA  Strategy       5.525961                0   \n",
       "2      9002   22  Female      USA    Sports       8.223755                0   \n",
       "3      9003   35    Male      USA    Action       5.265351                1   \n",
       "4      9004   33    Male   Europe    Action      15.531945                0   \n",
       "\n",
       "  GameDifficulty  SessionsPerWeek  AvgSessionDurationMinutes  PlayerLevel  \\\n",
       "0         Medium                6                        108           79   \n",
       "1         Medium                5                        144           11   \n",
       "2           Easy               16                        142           35   \n",
       "3           Easy                9                         85           57   \n",
       "4         Medium                2                        131           95   \n",
       "\n",
       "   AchievementsUnlocked EngagementLevel  \n",
       "0                    25          Medium  \n",
       "1                    10          Medium  \n",
       "2                    41            High  \n",
       "3                    47          Medium  \n",
       "4                    37          Medium  "
      ]
     },
     "execution_count": 2,
     "metadata": {},
     "output_type": "execute_result"
    }
   ],
   "source": [
    "game = pd.read_csv('online_gaming_behavior_dataset.csv')\n",
    "display(game.count())\n",
    "game.head()"
   ]
  },
  {
   "cell_type": "markdown",
   "id": "f93e82df",
   "metadata": {},
   "source": [
    "## Engagement Level "
   ]
  },
  {
   "cell_type": "markdown",
   "id": "4c4d38cf",
   "metadata": {},
   "source": [
    "<b>Objective:</b> Find out which factors might correlate the best to engagement level. \n",
    "\n",
    "For this dataset, we will looking at each columns to see its correlation to the engagement level.\n",
    "The columns that we will be looking at are\n",
    "1. Age\n",
    "2. Gender\n",
    "3. Location\n",
    "4. GameGenre\n",
    "5. PlayTimeHours\n",
    "6. InGamePurchases\n",
    "7. GameDifficulty\n",
    "\n",
    "<i>Also, the dataset has been checked for duplicate and missing data <br/>\n",
    "Source: https://www.kaggle.com/datasets/rabieelkharoua/predict-online-gaming-behavior-dataset?resource=download</i>"
   ]
  },
  {
   "cell_type": "code",
   "execution_count": 3,
   "id": "2d41ebb5",
   "metadata": {},
   "outputs": [
    {
     "data": {
      "text/html": [
       "<div>\n",
       "<style scoped>\n",
       "    .dataframe tbody tr th:only-of-type {\n",
       "        vertical-align: middle;\n",
       "    }\n",
       "\n",
       "    .dataframe tbody tr th {\n",
       "        vertical-align: top;\n",
       "    }\n",
       "\n",
       "    .dataframe thead th {\n",
       "        text-align: right;\n",
       "    }\n",
       "</style>\n",
       "<table border=\"1\" class=\"dataframe\">\n",
       "  <thead>\n",
       "    <tr style=\"text-align: right;\">\n",
       "      <th></th>\n",
       "      <th>Age</th>\n",
       "      <th>EngagementLevel</th>\n",
       "    </tr>\n",
       "  </thead>\n",
       "  <tbody>\n",
       "    <tr>\n",
       "      <th>0</th>\n",
       "      <td>43</td>\n",
       "      <td>Medium</td>\n",
       "    </tr>\n",
       "    <tr>\n",
       "      <th>1</th>\n",
       "      <td>29</td>\n",
       "      <td>Medium</td>\n",
       "    </tr>\n",
       "    <tr>\n",
       "      <th>2</th>\n",
       "      <td>22</td>\n",
       "      <td>High</td>\n",
       "    </tr>\n",
       "    <tr>\n",
       "      <th>3</th>\n",
       "      <td>35</td>\n",
       "      <td>Medium</td>\n",
       "    </tr>\n",
       "    <tr>\n",
       "      <th>4</th>\n",
       "      <td>33</td>\n",
       "      <td>Medium</td>\n",
       "    </tr>\n",
       "  </tbody>\n",
       "</table>\n",
       "</div>"
      ],
      "text/plain": [
       "   Age EngagementLevel\n",
       "0   43          Medium\n",
       "1   29          Medium\n",
       "2   22            High\n",
       "3   35          Medium\n",
       "4   33          Medium"
      ]
     },
     "execution_count": 3,
     "metadata": {},
     "output_type": "execute_result"
    }
   ],
   "source": [
    "game[[\"Age\",\"EngagementLevel\"]].head()"
   ]
  },
  {
   "cell_type": "code",
   "execution_count": 4,
   "id": "ba022395",
   "metadata": {},
   "outputs": [
    {
     "data": {
      "text/html": [
       "<div>\n",
       "<style scoped>\n",
       "    .dataframe tbody tr th:only-of-type {\n",
       "        vertical-align: middle;\n",
       "    }\n",
       "\n",
       "    .dataframe tbody tr th {\n",
       "        vertical-align: top;\n",
       "    }\n",
       "\n",
       "    .dataframe thead th {\n",
       "        text-align: right;\n",
       "    }\n",
       "</style>\n",
       "<table border=\"1\" class=\"dataframe\">\n",
       "  <thead>\n",
       "    <tr style=\"text-align: right;\">\n",
       "      <th></th>\n",
       "      <th>PlayerID</th>\n",
       "      <th>Age</th>\n",
       "      <th>Gender</th>\n",
       "      <th>Location</th>\n",
       "      <th>GameGenre</th>\n",
       "      <th>PlayTimeHours</th>\n",
       "      <th>InGamePurchases</th>\n",
       "      <th>GameDifficulty</th>\n",
       "      <th>SessionsPerWeek</th>\n",
       "      <th>AvgSessionDurationMinutes</th>\n",
       "      <th>PlayerLevel</th>\n",
       "      <th>AchievementsUnlocked</th>\n",
       "      <th>EngagementLevel</th>\n",
       "    </tr>\n",
       "  </thead>\n",
       "  <tbody>\n",
       "    <tr>\n",
       "      <th>5</th>\n",
       "      <td>9005</td>\n",
       "      <td>37</td>\n",
       "      <td>Male</td>\n",
       "      <td>Europe</td>\n",
       "      <td>RPG</td>\n",
       "      <td>20.561855</td>\n",
       "      <td>0</td>\n",
       "      <td>Easy</td>\n",
       "      <td>2</td>\n",
       "      <td>81</td>\n",
       "      <td>74</td>\n",
       "      <td>22</td>\n",
       "      <td>Low</td>\n",
       "    </tr>\n",
       "    <tr>\n",
       "      <th>6</th>\n",
       "      <td>9006</td>\n",
       "      <td>25</td>\n",
       "      <td>Male</td>\n",
       "      <td>USA</td>\n",
       "      <td>Action</td>\n",
       "      <td>9.752716</td>\n",
       "      <td>0</td>\n",
       "      <td>Hard</td>\n",
       "      <td>1</td>\n",
       "      <td>50</td>\n",
       "      <td>13</td>\n",
       "      <td>2</td>\n",
       "      <td>Low</td>\n",
       "    </tr>\n",
       "    <tr>\n",
       "      <th>13</th>\n",
       "      <td>9013</td>\n",
       "      <td>38</td>\n",
       "      <td>Female</td>\n",
       "      <td>USA</td>\n",
       "      <td>Strategy</td>\n",
       "      <td>8.701959</td>\n",
       "      <td>0</td>\n",
       "      <td>Easy</td>\n",
       "      <td>0</td>\n",
       "      <td>156</td>\n",
       "      <td>33</td>\n",
       "      <td>47</td>\n",
       "      <td>Low</td>\n",
       "    </tr>\n",
       "    <tr>\n",
       "      <th>14</th>\n",
       "      <td>9014</td>\n",
       "      <td>44</td>\n",
       "      <td>Male</td>\n",
       "      <td>USA</td>\n",
       "      <td>Simulation</td>\n",
       "      <td>17.975200</td>\n",
       "      <td>0</td>\n",
       "      <td>Easy</td>\n",
       "      <td>8</td>\n",
       "      <td>41</td>\n",
       "      <td>98</td>\n",
       "      <td>1</td>\n",
       "      <td>Low</td>\n",
       "    </tr>\n",
       "    <tr>\n",
       "      <th>17</th>\n",
       "      <td>9017</td>\n",
       "      <td>47</td>\n",
       "      <td>Male</td>\n",
       "      <td>USA</td>\n",
       "      <td>RPG</td>\n",
       "      <td>17.272113</td>\n",
       "      <td>0</td>\n",
       "      <td>Medium</td>\n",
       "      <td>2</td>\n",
       "      <td>131</td>\n",
       "      <td>13</td>\n",
       "      <td>9</td>\n",
       "      <td>Low</td>\n",
       "    </tr>\n",
       "  </tbody>\n",
       "</table>\n",
       "</div>"
      ],
      "text/plain": [
       "    PlayerID  Age  Gender Location   GameGenre  PlayTimeHours  \\\n",
       "5       9005   37    Male   Europe         RPG      20.561855   \n",
       "6       9006   25    Male      USA      Action       9.752716   \n",
       "13      9013   38  Female      USA    Strategy       8.701959   \n",
       "14      9014   44    Male      USA  Simulation      17.975200   \n",
       "17      9017   47    Male      USA         RPG      17.272113   \n",
       "\n",
       "    InGamePurchases GameDifficulty  SessionsPerWeek  \\\n",
       "5                 0           Easy                2   \n",
       "6                 0           Hard                1   \n",
       "13                0           Easy                0   \n",
       "14                0           Easy                8   \n",
       "17                0         Medium                2   \n",
       "\n",
       "    AvgSessionDurationMinutes  PlayerLevel  AchievementsUnlocked  \\\n",
       "5                          81           74                    22   \n",
       "6                          50           13                     2   \n",
       "13                        156           33                    47   \n",
       "14                         41           98                     1   \n",
       "17                        131           13                     9   \n",
       "\n",
       "   EngagementLevel  \n",
       "5              Low  \n",
       "6              Low  \n",
       "13             Low  \n",
       "14             Low  \n",
       "17             Low  "
      ]
     },
     "metadata": {},
     "output_type": "display_data"
    },
    {
     "data": {
      "text/html": [
       "<div>\n",
       "<style scoped>\n",
       "    .dataframe tbody tr th:only-of-type {\n",
       "        vertical-align: middle;\n",
       "    }\n",
       "\n",
       "    .dataframe tbody tr th {\n",
       "        vertical-align: top;\n",
       "    }\n",
       "\n",
       "    .dataframe thead th {\n",
       "        text-align: right;\n",
       "    }\n",
       "</style>\n",
       "<table border=\"1\" class=\"dataframe\">\n",
       "  <thead>\n",
       "    <tr style=\"text-align: right;\">\n",
       "      <th></th>\n",
       "      <th>PlayerID</th>\n",
       "      <th>Age</th>\n",
       "      <th>Gender</th>\n",
       "      <th>Location</th>\n",
       "      <th>GameGenre</th>\n",
       "      <th>PlayTimeHours</th>\n",
       "      <th>InGamePurchases</th>\n",
       "      <th>GameDifficulty</th>\n",
       "      <th>SessionsPerWeek</th>\n",
       "      <th>AvgSessionDurationMinutes</th>\n",
       "      <th>PlayerLevel</th>\n",
       "      <th>AchievementsUnlocked</th>\n",
       "      <th>EngagementLevel</th>\n",
       "    </tr>\n",
       "  </thead>\n",
       "  <tbody>\n",
       "    <tr>\n",
       "      <th>0</th>\n",
       "      <td>9000</td>\n",
       "      <td>43</td>\n",
       "      <td>Male</td>\n",
       "      <td>Other</td>\n",
       "      <td>Strategy</td>\n",
       "      <td>16.271119</td>\n",
       "      <td>0</td>\n",
       "      <td>Medium</td>\n",
       "      <td>6</td>\n",
       "      <td>108</td>\n",
       "      <td>79</td>\n",
       "      <td>25</td>\n",
       "      <td>Medium</td>\n",
       "    </tr>\n",
       "    <tr>\n",
       "      <th>1</th>\n",
       "      <td>9001</td>\n",
       "      <td>29</td>\n",
       "      <td>Female</td>\n",
       "      <td>USA</td>\n",
       "      <td>Strategy</td>\n",
       "      <td>5.525961</td>\n",
       "      <td>0</td>\n",
       "      <td>Medium</td>\n",
       "      <td>5</td>\n",
       "      <td>144</td>\n",
       "      <td>11</td>\n",
       "      <td>10</td>\n",
       "      <td>Medium</td>\n",
       "    </tr>\n",
       "    <tr>\n",
       "      <th>3</th>\n",
       "      <td>9003</td>\n",
       "      <td>35</td>\n",
       "      <td>Male</td>\n",
       "      <td>USA</td>\n",
       "      <td>Action</td>\n",
       "      <td>5.265351</td>\n",
       "      <td>1</td>\n",
       "      <td>Easy</td>\n",
       "      <td>9</td>\n",
       "      <td>85</td>\n",
       "      <td>57</td>\n",
       "      <td>47</td>\n",
       "      <td>Medium</td>\n",
       "    </tr>\n",
       "    <tr>\n",
       "      <th>4</th>\n",
       "      <td>9004</td>\n",
       "      <td>33</td>\n",
       "      <td>Male</td>\n",
       "      <td>Europe</td>\n",
       "      <td>Action</td>\n",
       "      <td>15.531945</td>\n",
       "      <td>0</td>\n",
       "      <td>Medium</td>\n",
       "      <td>2</td>\n",
       "      <td>131</td>\n",
       "      <td>95</td>\n",
       "      <td>37</td>\n",
       "      <td>Medium</td>\n",
       "    </tr>\n",
       "    <tr>\n",
       "      <th>7</th>\n",
       "      <td>9007</td>\n",
       "      <td>25</td>\n",
       "      <td>Female</td>\n",
       "      <td>Asia</td>\n",
       "      <td>RPG</td>\n",
       "      <td>4.401729</td>\n",
       "      <td>0</td>\n",
       "      <td>Medium</td>\n",
       "      <td>10</td>\n",
       "      <td>48</td>\n",
       "      <td>27</td>\n",
       "      <td>23</td>\n",
       "      <td>Medium</td>\n",
       "    </tr>\n",
       "  </tbody>\n",
       "</table>\n",
       "</div>"
      ],
      "text/plain": [
       "   PlayerID  Age  Gender Location GameGenre  PlayTimeHours  InGamePurchases  \\\n",
       "0      9000   43    Male    Other  Strategy      16.271119                0   \n",
       "1      9001   29  Female      USA  Strategy       5.525961                0   \n",
       "3      9003   35    Male      USA    Action       5.265351                1   \n",
       "4      9004   33    Male   Europe    Action      15.531945                0   \n",
       "7      9007   25  Female     Asia       RPG       4.401729                0   \n",
       "\n",
       "  GameDifficulty  SessionsPerWeek  AvgSessionDurationMinutes  PlayerLevel  \\\n",
       "0         Medium                6                        108           79   \n",
       "1         Medium                5                        144           11   \n",
       "3           Easy                9                         85           57   \n",
       "4         Medium                2                        131           95   \n",
       "7         Medium               10                         48           27   \n",
       "\n",
       "   AchievementsUnlocked EngagementLevel  \n",
       "0                    25          Medium  \n",
       "1                    10          Medium  \n",
       "3                    47          Medium  \n",
       "4                    37          Medium  \n",
       "7                    23          Medium  "
      ]
     },
     "metadata": {},
     "output_type": "display_data"
    },
    {
     "data": {
      "text/html": [
       "<div>\n",
       "<style scoped>\n",
       "    .dataframe tbody tr th:only-of-type {\n",
       "        vertical-align: middle;\n",
       "    }\n",
       "\n",
       "    .dataframe tbody tr th {\n",
       "        vertical-align: top;\n",
       "    }\n",
       "\n",
       "    .dataframe thead th {\n",
       "        text-align: right;\n",
       "    }\n",
       "</style>\n",
       "<table border=\"1\" class=\"dataframe\">\n",
       "  <thead>\n",
       "    <tr style=\"text-align: right;\">\n",
       "      <th></th>\n",
       "      <th>PlayerID</th>\n",
       "      <th>Age</th>\n",
       "      <th>Gender</th>\n",
       "      <th>Location</th>\n",
       "      <th>GameGenre</th>\n",
       "      <th>PlayTimeHours</th>\n",
       "      <th>InGamePurchases</th>\n",
       "      <th>GameDifficulty</th>\n",
       "      <th>SessionsPerWeek</th>\n",
       "      <th>AvgSessionDurationMinutes</th>\n",
       "      <th>PlayerLevel</th>\n",
       "      <th>AchievementsUnlocked</th>\n",
       "      <th>EngagementLevel</th>\n",
       "    </tr>\n",
       "  </thead>\n",
       "  <tbody>\n",
       "    <tr>\n",
       "      <th>2</th>\n",
       "      <td>9002</td>\n",
       "      <td>22</td>\n",
       "      <td>Female</td>\n",
       "      <td>USA</td>\n",
       "      <td>Sports</td>\n",
       "      <td>8.223755</td>\n",
       "      <td>0</td>\n",
       "      <td>Easy</td>\n",
       "      <td>16</td>\n",
       "      <td>142</td>\n",
       "      <td>35</td>\n",
       "      <td>41</td>\n",
       "      <td>High</td>\n",
       "    </tr>\n",
       "    <tr>\n",
       "      <th>9</th>\n",
       "      <td>9009</td>\n",
       "      <td>38</td>\n",
       "      <td>Female</td>\n",
       "      <td>Other</td>\n",
       "      <td>Sports</td>\n",
       "      <td>23.942772</td>\n",
       "      <td>0</td>\n",
       "      <td>Easy</td>\n",
       "      <td>13</td>\n",
       "      <td>95</td>\n",
       "      <td>99</td>\n",
       "      <td>36</td>\n",
       "      <td>High</td>\n",
       "    </tr>\n",
       "    <tr>\n",
       "      <th>10</th>\n",
       "      <td>9010</td>\n",
       "      <td>17</td>\n",
       "      <td>Male</td>\n",
       "      <td>USA</td>\n",
       "      <td>Strategy</td>\n",
       "      <td>4.829916</td>\n",
       "      <td>0</td>\n",
       "      <td>Hard</td>\n",
       "      <td>8</td>\n",
       "      <td>95</td>\n",
       "      <td>14</td>\n",
       "      <td>12</td>\n",
       "      <td>High</td>\n",
       "    </tr>\n",
       "    <tr>\n",
       "      <th>11</th>\n",
       "      <td>9011</td>\n",
       "      <td>36</td>\n",
       "      <td>Female</td>\n",
       "      <td>Asia</td>\n",
       "      <td>Simulation</td>\n",
       "      <td>5.535981</td>\n",
       "      <td>1</td>\n",
       "      <td>Easy</td>\n",
       "      <td>16</td>\n",
       "      <td>124</td>\n",
       "      <td>62</td>\n",
       "      <td>31</td>\n",
       "      <td>High</td>\n",
       "    </tr>\n",
       "    <tr>\n",
       "      <th>12</th>\n",
       "      <td>9012</td>\n",
       "      <td>16</td>\n",
       "      <td>Male</td>\n",
       "      <td>USA</td>\n",
       "      <td>Sports</td>\n",
       "      <td>18.776234</td>\n",
       "      <td>1</td>\n",
       "      <td>Easy</td>\n",
       "      <td>9</td>\n",
       "      <td>18</td>\n",
       "      <td>52</td>\n",
       "      <td>32</td>\n",
       "      <td>High</td>\n",
       "    </tr>\n",
       "  </tbody>\n",
       "</table>\n",
       "</div>"
      ],
      "text/plain": [
       "    PlayerID  Age  Gender Location   GameGenre  PlayTimeHours  \\\n",
       "2       9002   22  Female      USA      Sports       8.223755   \n",
       "9       9009   38  Female    Other      Sports      23.942772   \n",
       "10      9010   17    Male      USA    Strategy       4.829916   \n",
       "11      9011   36  Female     Asia  Simulation       5.535981   \n",
       "12      9012   16    Male      USA      Sports      18.776234   \n",
       "\n",
       "    InGamePurchases GameDifficulty  SessionsPerWeek  \\\n",
       "2                 0           Easy               16   \n",
       "9                 0           Easy               13   \n",
       "10                0           Hard                8   \n",
       "11                1           Easy               16   \n",
       "12                1           Easy                9   \n",
       "\n",
       "    AvgSessionDurationMinutes  PlayerLevel  AchievementsUnlocked  \\\n",
       "2                         142           35                    41   \n",
       "9                          95           99                    36   \n",
       "10                         95           14                    12   \n",
       "11                        124           62                    31   \n",
       "12                         18           52                    32   \n",
       "\n",
       "   EngagementLevel  \n",
       "2             High  \n",
       "9             High  \n",
       "10            High  \n",
       "11            High  \n",
       "12            High  "
      ]
     },
     "metadata": {},
     "output_type": "display_data"
    }
   ],
   "source": [
    "game_lowLvl = game.loc[game[\"EngagementLevel\"] == \"Low\"]\n",
    "display(game_lowLvl.head())\n",
    "\n",
    "game_medLvl = game.loc[game[\"EngagementLevel\"] == \"Medium\"]\n",
    "display(game_medLvl.head())\n",
    "\n",
    "game_highLvl = game.loc[game[\"EngagementLevel\"] == \"High\"]\n",
    "display(game_highLvl.head())"
   ]
  },
  {
   "cell_type": "code",
   "execution_count": 5,
   "id": "3e9e6711",
   "metadata": {},
   "outputs": [
    {
     "name": "stdout",
     "output_type": "stream",
     "text": [
      "Low Engagement Level\n"
     ]
    },
    {
     "data": {
      "text/plain": [
       "Location\n",
       "USA       4087\n",
       "Europe    3143\n",
       "Asia      2058\n",
       "Other     1036\n",
       "Name: count, dtype: int64"
      ]
     },
     "metadata": {},
     "output_type": "display_data"
    },
    {
     "name": "stdout",
     "output_type": "stream",
     "text": [
      "\n",
      "Medium Engagement Level\n"
     ]
    },
    {
     "data": {
      "text/plain": [
       "Location\n",
       "USA       7786\n",
       "Europe    5793\n",
       "Asia      3906\n",
       "Other     1889\n",
       "Name: count, dtype: int64"
      ]
     },
     "metadata": {},
     "output_type": "display_data"
    },
    {
     "name": "stdout",
     "output_type": "stream",
     "text": [
      "\n",
      "High Engagement Level\n"
     ]
    },
    {
     "data": {
      "text/plain": [
       "Location\n",
       "USA       4127\n",
       "Europe    3068\n",
       "Asia      2131\n",
       "Other     1010\n",
       "Name: count, dtype: int64"
      ]
     },
     "metadata": {},
     "output_type": "display_data"
    }
   ],
   "source": [
    "print(\"Low Engagement Level\")\n",
    "display(game_lowLvl[\"Location\"].value_counts())\n",
    "print()\n",
    "print(\"Medium Engagement Level\")\n",
    "display(game_medLvl[\"Location\"].value_counts())\n",
    "print()\n",
    "print(\"High Engagement Level\")\n",
    "display(game_highLvl[\"Location\"].value_counts())"
   ]
  },
  {
   "cell_type": "markdown",
   "id": "fb7a9120",
   "metadata": {},
   "source": [
    "From a glance, it seems that for <br/>\n",
    "Low Engagement Level - USA has the most then Europe, Asia then Other <br/>\n",
    "Medium Engagement Level - USA > Europe > Asia > Other <br/>\n",
    "High Engagement Level - USA > Europe > Asia > Other <br/>\n",
    "<br/>\n",
    "With the data provided, country does not seems to be a major factor and also, there were no mentions of the distrubution of nationalities partaking in the survey. Thus, even if there is a distinction in the engagement levels, country will not be a proper factor to the engagement level. <br/>\n",
    "Next, we will be checking if gender might play a role."
   ]
  },
  {
   "cell_type": "code",
   "execution_count": 6,
   "id": "95ddfd56",
   "metadata": {},
   "outputs": [
    {
     "name": "stdout",
     "output_type": "stream",
     "text": [
      "Low Engagement Level\n"
     ]
    },
    {
     "data": {
      "text/plain": [
       "Gender\n",
       "Male      6203\n",
       "Female    4121\n",
       "Name: count, dtype: int64"
      ]
     },
     "metadata": {},
     "output_type": "display_data"
    },
    {
     "name": "stdout",
     "output_type": "stream",
     "text": [
      "\n",
      "Medium Engagement Level\n"
     ]
    },
    {
     "data": {
      "text/plain": [
       "Gender\n",
       "Male      11616\n",
       "Female     7758\n",
       "Name: count, dtype: int64"
      ]
     },
     "metadata": {},
     "output_type": "display_data"
    },
    {
     "name": "stdout",
     "output_type": "stream",
     "text": [
      "\n",
      "High Engagement Level\n"
     ]
    },
    {
     "data": {
      "text/plain": [
       "Gender\n",
       "Male      6140\n",
       "Female    4196\n",
       "Name: count, dtype: int64"
      ]
     },
     "metadata": {},
     "output_type": "display_data"
    }
   ],
   "source": [
    "print(\"Low Engagement Level\")\n",
    "display(game_lowLvl[\"Gender\"].value_counts())\n",
    "print()\n",
    "print(\"Medium Engagement Level\")\n",
    "display(game_medLvl[\"Gender\"].value_counts())\n",
    "print()\n",
    "print(\"High Engagement Level\")\n",
    "display(game_highLvl[\"Gender\"].value_counts())"
   ]
  },
  {
   "cell_type": "markdown",
   "id": "9b4fc12b",
   "metadata": {},
   "source": [
    "It seems that at all level, male takes on the majority of the population. However, similar to the problem presented earlier, there are more males taking the survey than females which could be the case since the general consensus is that gaming is more male dominated. Therefore, gender may not be a good indicator to engagement level. <br/>\n",
    "Now, we will be looking at GameGenre"
   ]
  },
  {
   "cell_type": "code",
   "execution_count": 7,
   "id": "2febbee2",
   "metadata": {},
   "outputs": [
    {
     "name": "stdout",
     "output_type": "stream",
     "text": [
      "Low Engagement Level\n"
     ]
    },
    {
     "data": {
      "text/plain": [
       "GameGenre\n",
       "RPG           2097\n",
       "Simulation    2088\n",
       "Sports        2074\n",
       "Action        2059\n",
       "Strategy      2006\n",
       "Name: count, dtype: int64"
      ]
     },
     "metadata": {},
     "output_type": "display_data"
    },
    {
     "name": "stdout",
     "output_type": "stream",
     "text": [
      "\n",
      "Medium Engagement Level\n"
     ]
    },
    {
     "data": {
      "text/plain": [
       "GameGenre\n",
       "Action        3916\n",
       "Strategy      3909\n",
       "Sports        3891\n",
       "RPG           3867\n",
       "Simulation    3791\n",
       "Name: count, dtype: int64"
      ]
     },
     "metadata": {},
     "output_type": "display_data"
    },
    {
     "name": "stdout",
     "output_type": "stream",
     "text": [
      "\n",
      "High Engagement Level\n"
     ]
    },
    {
     "data": {
      "text/plain": [
       "GameGenre\n",
       "Simulation    2104\n",
       "Strategy      2097\n",
       "Sports        2083\n",
       "Action        2064\n",
       "RPG           1988\n",
       "Name: count, dtype: int64"
      ]
     },
     "metadata": {},
     "output_type": "display_data"
    }
   ],
   "source": [
    "print(\"Low Engagement Level\")\n",
    "display(game_lowLvl[\"GameGenre\"].value_counts())\n",
    "print()\n",
    "print(\"Medium Engagement Level\")\n",
    "display(game_medLvl[\"GameGenre\"].value_counts())\n",
    "print()\n",
    "print(\"High Engagement Level\")\n",
    "display(game_highLvl[\"GameGenre\"].value_counts())"
   ]
  },
  {
   "cell_type": "markdown",
   "id": "ede1d974",
   "metadata": {},
   "source": [
    "The differences seem to be pronunced in this dataset column.\n",
    "For Low Engagement, RPG>Simulation>Sports>Action>Strategy <br/> \n",
    "For Medium Engagement, Action>Strategy>Sports>RPG>Simulation <br/>\n",
    "For High Engagement, Simulation>Strategy>Sports>Action>RPG <br/>\n",
    "\n",
    "However, the differences between the top 3 genres across all engagement level are quite close. <br/>\n",
    "For Low Engagement Level, RPG seems to have the highest count with lower counts in the other 2 levels.<br/>\n",
    "For Medium Engagement Level, Action has the highest count with lower counts in other levels.<br/>\n",
    "For High Engagement Level, Simulation has the highest count but it seeems to be conflicting as its the 2nd highest in Low Engagement Level. \n",
    "\n",
    "One consistent trait would be Strategy holding a medium-high engagement level. Sports seem to be equal in all three levels.\n",
    "From my understanding of these genres, strategy games have been popular for a long time due to games such as Chess, Othello, Checkers and more. In addition, due to the learning curve of strategy games, it is able engage more players and supposingly have higher playtime. This statement could be tested in future sections of this Notebook. "
   ]
  },
  {
   "cell_type": "code",
   "execution_count": 8,
   "id": "d7c08661",
   "metadata": {},
   "outputs": [],
   "source": [
    "game_lowLvl_4 = game_lowLvl[(game_lowLvl[\"PlayTimeHours\"] < 4)]\n",
    "game_lowLvl_12 = game_lowLvl[(game_lowLvl[\"PlayTimeHours\"] >= 4) & (game_lowLvl[\"PlayTimeHours\"] < 12)]\n",
    "game_lowLvl_13 = game_lowLvl[(game_lowLvl[\"PlayTimeHours\"] >= 12)]\n",
    "\n",
    "game_medLvl_4 = game_medLvl[(game_medLvl[\"PlayTimeHours\"] < 4)]\n",
    "game_medLvl_12 = game_medLvl[(game_medLvl[\"PlayTimeHours\"] >= 4) & (game_medLvl[\"PlayTimeHours\"] < 12)]\n",
    "game_medLvl_13 = game_medLvl[(game_medLvl[\"PlayTimeHours\"] >= 12)]\n",
    "\n",
    "game_highLvl_4 = game_highLvl[(game_highLvl[\"PlayTimeHours\"] < 4)]\n",
    "game_highLvl_12 = game_highLvl[(game_highLvl[\"PlayTimeHours\"] >= 4) & (game_highLvl[\"PlayTimeHours\"] < 12)]\n",
    "game_highLvl_13 = game_highLvl[(game_highLvl[\"PlayTimeHours\"] >= 12)]"
   ]
  },
  {
   "cell_type": "code",
   "execution_count": 9,
   "id": "cfb04880",
   "metadata": {},
   "outputs": [
    {
     "name": "stdout",
     "output_type": "stream",
     "text": [
      "Low Engagement Level\n",
      "Less than 4 hours:  1630\n",
      "Less than 12 hours:  3505\n",
      "More than 12 hours:  5189\n",
      "\n",
      "Medium Engagement Level\n",
      "Less than 4 hours:  3265\n",
      "Less than 12 hours:  6431\n",
      "More than 12 hours:  9678\n",
      "\n",
      "High Engagement Level\n",
      "Less than 4 hours:  1654\n",
      "Less than 12 hours:  3521\n",
      "More than 12 hours:  5161\n"
     ]
    }
   ],
   "source": [
    "print(\"Low Engagement Level\")\n",
    "print(\"Less than 4 hours: \",(len(game_lowLvl_4)))\n",
    "print(\"Less than 12 hours: \",(len(game_lowLvl_12)))\n",
    "print(\"More than 12 hours: \",(len(game_lowLvl_13)))\n",
    "print()\n",
    "print(\"Medium Engagement Level\")\n",
    "print(\"Less than 4 hours: \",(len(game_medLvl_4)))\n",
    "print(\"Less than 12 hours: \",(len(game_medLvl_12)))\n",
    "print(\"More than 12 hours: \",(len(game_medLvl_13)))\n",
    "print()\n",
    "print(\"High Engagement Level\")\n",
    "print(\"Less than 4 hours: \",(len(game_highLvl_4)))\n",
    "print(\"Less than 12 hours: \",(len(game_highLvl_12)))\n",
    "print(\"More than 12 hours: \",(len(game_highLvl_13)))"
   ]
  },
  {
   "cell_type": "markdown",
   "id": "a3323f86",
   "metadata": {},
   "source": [
    "From the comparison, it seems that there is no correlation between playtime hours and engagement levels as high playtime hours should be equalivant to a higher engagement level. Therefore, PlayTimeHours is not a significant factor to affecting the engagement levels."
   ]
  },
  {
   "cell_type": "code",
   "execution_count": 10,
   "id": "a46f91b0",
   "metadata": {},
   "outputs": [
    {
     "name": "stdout",
     "output_type": "stream",
     "text": [
      "Low Engagement Level\n"
     ]
    },
    {
     "data": {
      "text/plain": [
       "InGamePurchases\n",
       "0    8287\n",
       "1    2037\n",
       "Name: count, dtype: int64"
      ]
     },
     "metadata": {},
     "output_type": "display_data"
    },
    {
     "name": "stdout",
     "output_type": "stream",
     "text": [
      "\n",
      "Medium Engagement Level\n"
     ]
    },
    {
     "data": {
      "text/plain": [
       "InGamePurchases\n",
       "0    15504\n",
       "1     3870\n",
       "Name: count, dtype: int64"
      ]
     },
     "metadata": {},
     "output_type": "display_data"
    },
    {
     "name": "stdout",
     "output_type": "stream",
     "text": [
      "\n",
      "High Engagement Level\n"
     ]
    },
    {
     "data": {
      "text/plain": [
       "InGamePurchases\n",
       "0    8202\n",
       "1    2134\n",
       "Name: count, dtype: int64"
      ]
     },
     "metadata": {},
     "output_type": "display_data"
    }
   ],
   "source": [
    "print(\"Low Engagement Level\")\n",
    "display(game_lowLvl[\"InGamePurchases\"].value_counts())\n",
    "print()\n",
    "print(\"Medium Engagement Level\")\n",
    "display(game_medLvl[\"InGamePurchases\"].value_counts())\n",
    "print()\n",
    "print(\"High Engagement Level\")\n",
    "display(game_highLvl[\"InGamePurchases\"].value_counts())"
   ]
  },
  {
   "cell_type": "markdown",
   "id": "08c69690",
   "metadata": {},
   "source": [
    "Same as well, there is not much correlation as the general consensus is usually players who make more ingame purchases are usually those with higher engagement level."
   ]
  },
  {
   "cell_type": "code",
   "execution_count": 11,
   "id": "a5bf7de2",
   "metadata": {},
   "outputs": [
    {
     "name": "stdout",
     "output_type": "stream",
     "text": [
      "Low Engagement Level\n"
     ]
    },
    {
     "data": {
      "text/plain": [
       "GameDifficulty\n",
       "Easy      5206\n",
       "Medium    3042\n",
       "Hard      2076\n",
       "Name: count, dtype: int64"
      ]
     },
     "metadata": {},
     "output_type": "display_data"
    },
    {
     "name": "stdout",
     "output_type": "stream",
     "text": [
      "\n",
      "Medium Engagement Level\n"
     ]
    },
    {
     "data": {
      "text/plain": [
       "GameDifficulty\n",
       "Easy      9677\n",
       "Medium    5877\n",
       "Hard      3820\n",
       "Name: count, dtype: int64"
      ]
     },
     "metadata": {},
     "output_type": "display_data"
    },
    {
     "name": "stdout",
     "output_type": "stream",
     "text": [
      "\n",
      "High Engagement Level\n"
     ]
    },
    {
     "data": {
      "text/plain": [
       "GameDifficulty\n",
       "Easy      5132\n",
       "Medium    3092\n",
       "Hard      2112\n",
       "Name: count, dtype: int64"
      ]
     },
     "metadata": {},
     "output_type": "display_data"
    }
   ],
   "source": [
    "print(\"Low Engagement Level\")\n",
    "display(game_lowLvl[\"GameDifficulty\"].value_counts())\n",
    "print()\n",
    "print(\"Medium Engagement Level\")\n",
    "display(game_medLvl[\"GameDifficulty\"].value_counts())\n",
    "print()\n",
    "print(\"High Engagement Level\")\n",
    "display(game_highLvl[\"GameDifficulty\"].value_counts())"
   ]
  },
  {
   "cell_type": "markdown",
   "id": "551ee2dc",
   "metadata": {},
   "source": [
    "Similar to the previous column as well."
   ]
  },
  {
   "cell_type": "code",
   "execution_count": 12,
   "id": "617b1a18",
   "metadata": {},
   "outputs": [
    {
     "data": {
      "text/plain": [
       "count    40034.000000\n",
       "mean        49.655568\n",
       "std         28.588379\n",
       "min          1.000000\n",
       "25%         25.000000\n",
       "50%         49.000000\n",
       "75%         74.000000\n",
       "max         99.000000\n",
       "Name: PlayerLevel, dtype: float64"
      ]
     },
     "execution_count": 12,
     "metadata": {},
     "output_type": "execute_result"
    }
   ],
   "source": [
    "game[\"PlayerLevel\"].describe()"
   ]
  },
  {
   "cell_type": "code",
   "execution_count": 13,
   "id": "f78ae784",
   "metadata": {},
   "outputs": [],
   "source": [
    "game_lowLvl_30 = game_lowLvl[(game_lowLvl[\"PlayerLevel\"] < 30)]\n",
    "game_lowLvl_60 = game_lowLvl[(game_lowLvl[\"PlayerLevel\"] >= 30) & (game_lowLvl[\"PlayerLevel\"] < 60)]\n",
    "game_lowLvl_99 = game_lowLvl[(game_lowLvl[\"PlayerLevel\"] >= 60)]\n",
    "\n",
    "game_medLvl_30 = game_medLvl[(game_medLvl[\"PlayerLevel\"] < 30)]\n",
    "game_medLvl_60 = game_medLvl[(game_medLvl[\"PlayerLevel\"] >= 30) & (game_medLvl[\"PlayerLevel\"] < 60)]\n",
    "game_medLvl_99 = game_medLvl[(game_medLvl[\"PlayerLevel\"] >= 60)]\n",
    "\n",
    "game_highLvl_30 = game_highLvl[(game_highLvl[\"PlayerLevel\"] < 30)]\n",
    "game_highLvl_60 = game_highLvl[(game_highLvl[\"PlayerLevel\"] >= 30) & (game_highLvl[\"PlayerLevel\"] < 60)]\n",
    "game_highLvl_99 = game_highLvl[(game_highLvl[\"PlayerLevel\"] >= 60)]"
   ]
  },
  {
   "cell_type": "code",
   "execution_count": 14,
   "id": "d8faaa4e",
   "metadata": {},
   "outputs": [
    {
     "name": "stdout",
     "output_type": "stream",
     "text": [
      "Low Engagement Level\n",
      "Less than level 30:  3501\n",
      "Less than level 60:  3272\n",
      "More than level 60:  3551\n",
      "\n",
      "Medium Engagement Level\n",
      "Less than level 30:  5457\n",
      "Less than level 60:  5884\n",
      "More than level 60:  8033\n",
      "\n",
      "High Engagement Level\n",
      "Less than level 30:  2943\n",
      "Less than level 60:  3095\n",
      "More than level 60:  4298\n"
     ]
    }
   ],
   "source": [
    "print(\"Low Engagement Level\")\n",
    "print(\"Less than level 30: \",(len(game_lowLvl_30)))\n",
    "print(\"Less than level 60: \",(len(game_lowLvl_60)))\n",
    "print(\"More than level 60: \",(len(game_lowLvl_99)))\n",
    "print()\n",
    "print(\"Medium Engagement Level\")\n",
    "print(\"Less than level 30: \",(len(game_medLvl_30)))\n",
    "print(\"Less than level 60: \",(len(game_medLvl_60)))\n",
    "print(\"More than level 60: \",(len(game_medLvl_99)))\n",
    "print()\n",
    "print(\"High Engagement Level\")\n",
    "print(\"Less than level 30: \",(len(game_highLvl_30)))\n",
    "print(\"Less than level 60: \",(len(game_highLvl_60)))\n",
    "print(\"More than level 60: \",(len(game_highLvl_99)))"
   ]
  },
  {
   "cell_type": "markdown",
   "id": "ad47edc7",
   "metadata": {},
   "source": [
    "Similar reasonings, however the data could be easily justified.\n",
    "Depending on what kind of game and genre it is, it could be due to what the game content has to offer. For example, end game content in certain games are scarce which would lead to lower engagement level in gamers. However, there are games that do not require high engagement level as they can be played casually or does not require frequent engagements."
   ]
  },
  {
   "cell_type": "code",
   "execution_count": 15,
   "id": "7961f2ef",
   "metadata": {},
   "outputs": [
    {
     "data": {
      "text/plain": [
       "count    40034.000000\n",
       "mean        24.526477\n",
       "std         14.430726\n",
       "min          0.000000\n",
       "25%         12.000000\n",
       "50%         25.000000\n",
       "75%         37.000000\n",
       "max         49.000000\n",
       "Name: AchievementsUnlocked, dtype: float64"
      ]
     },
     "execution_count": 15,
     "metadata": {},
     "output_type": "execute_result"
    }
   ],
   "source": [
    "game[\"AchievementsUnlocked\"].describe()\n",
    "\n",
    "#This factor may not be significant as there are games with hundreds of achievements and some with no achievements. Even if\n",
    "#the factor has been balanced out to take into account this flaw. It will result in improper results. \n",
    "#Therefore, the results achieved would not mean much, and should be taken with a pinch of salt. "
   ]
  },
  {
   "cell_type": "code",
   "execution_count": 16,
   "id": "05c61949",
   "metadata": {},
   "outputs": [],
   "source": [
    "game_lowLvl_10 = game_lowLvl[(game_lowLvl[\"AchievementsUnlocked\"] < 10)]\n",
    "game_lowLvl_30 = game_lowLvl[(game_lowLvl[\"AchievementsUnlocked\"] >= 10) & (game_lowLvl[\"AchievementsUnlocked\"] < 30)]\n",
    "game_lowLvl_49 = game_lowLvl[(game_lowLvl[\"AchievementsUnlocked\"] >= 30)]\n",
    "\n",
    "game_medLvl_10 = game_medLvl[(game_medLvl[\"AchievementsUnlocked\"] < 10)]\n",
    "game_medLvl_30 = game_medLvl[(game_medLvl[\"AchievementsUnlocked\"] >= 10) & (game_medLvl[\"AchievementsUnlocked\"] < 30)]\n",
    "game_medLvl_49 = game_medLvl[(game_medLvl[\"AchievementsUnlocked\"] >= 30)]\n",
    "\n",
    "game_highLvl_10 = game_highLvl[(game_highLvl[\"AchievementsUnlocked\"] < 10)]\n",
    "game_highLvl_30 = game_highLvl[(game_highLvl[\"AchievementsUnlocked\"] >= 10) & (game_highLvl[\"AchievementsUnlocked\"] < 30)]\n",
    "game_highLvl_49 = game_highLvl[(game_highLvl[\"AchievementsUnlocked\"] >= 30)]"
   ]
  },
  {
   "cell_type": "code",
   "execution_count": 17,
   "id": "aa780f58",
   "metadata": {
    "scrolled": true
   },
   "outputs": [
    {
     "name": "stdout",
     "output_type": "stream",
     "text": [
      "Low Engagement Level\n",
      "Less than 10 achievements:  4382\n",
      "Less than 30 achievements:  3272\n",
      "More than 30 achievements:  3551\n",
      "\n",
      "Medium Engagement Level\n",
      "Less than 10 achievements:  7514\n",
      "Less than 30 achievements:  5884\n",
      "More than 30 achievements:  8033\n",
      "\n",
      "High Engagement Level\n",
      "Less than 10 achievements:  4034\n",
      "Less than 30 achievements:  3095\n",
      "More than 30 achievements:  4298\n"
     ]
    }
   ],
   "source": [
    "print(\"Low Engagement Level\")\n",
    "print(\"Less than 10 achievements: \",(len(game_lowLvl_30)))\n",
    "print(\"Less than 30 achievements: \",(len(game_lowLvl_60)))\n",
    "print(\"More than 30 achievements: \",(len(game_lowLvl_99)))\n",
    "print()\n",
    "print(\"Medium Engagement Level\")\n",
    "print(\"Less than 10 achievements: \",(len(game_medLvl_30)))\n",
    "print(\"Less than 30 achievements: \",(len(game_medLvl_60)))\n",
    "print(\"More than 30 achievements: \",(len(game_medLvl_99)))\n",
    "print()\n",
    "print(\"High Engagement Level\")\n",
    "print(\"Less than 10 achievements: \",(len(game_highLvl_30)))\n",
    "print(\"Less than 30 achievements: \",(len(game_highLvl_60)))\n",
    "print(\"More than 30 achievements: \",(len(game_highLvl_99)))"
   ]
  }
 ],
 "metadata": {
  "kernelspec": {
   "display_name": "Python 3 (ipykernel)",
   "language": "python",
   "name": "python3"
  },
  "language_info": {
   "codemirror_mode": {
    "name": "ipython",
    "version": 3
   },
   "file_extension": ".py",
   "mimetype": "text/x-python",
   "name": "python",
   "nbconvert_exporter": "python",
   "pygments_lexer": "ipython3",
   "version": "3.11.5"
  }
 },
 "nbformat": 4,
 "nbformat_minor": 5
}
